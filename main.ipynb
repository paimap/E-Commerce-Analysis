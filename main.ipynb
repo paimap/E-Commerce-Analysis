{
 "cells": [
  {
   "cell_type": "code",
   "execution_count": 1,
   "metadata": {},
   "outputs": [
    {
     "name": "stdout",
     "output_type": "stream",
     "text": [
      "Requirement already satisfied: pandas in /Users/paima/anaconda3/lib/python3.11/site-packages (2.0.3)\n",
      "Requirement already satisfied: python-dateutil>=2.8.2 in /Users/paima/anaconda3/lib/python3.11/site-packages (from pandas) (2.8.2)\n",
      "Requirement already satisfied: pytz>=2020.1 in /Users/paima/anaconda3/lib/python3.11/site-packages (from pandas) (2023.3.post1)\n",
      "Requirement already satisfied: tzdata>=2022.1 in /Users/paima/anaconda3/lib/python3.11/site-packages (from pandas) (2023.3)\n",
      "Requirement already satisfied: numpy>=1.21.0 in /Users/paima/anaconda3/lib/python3.11/site-packages (from pandas) (1.24.3)\n",
      "Requirement already satisfied: six>=1.5 in /Users/paima/anaconda3/lib/python3.11/site-packages (from python-dateutil>=2.8.2->pandas) (1.16.0)\n",
      "Requirement already satisfied: duckdb in /Users/paima/anaconda3/lib/python3.11/site-packages (0.10.0)\n",
      "Requirement already satisfied: seaborn in /Users/paima/anaconda3/lib/python3.11/site-packages (0.12.2)\n",
      "Requirement already satisfied: numpy!=1.24.0,>=1.17 in /Users/paima/anaconda3/lib/python3.11/site-packages (from seaborn) (1.24.3)\n",
      "Requirement already satisfied: pandas>=0.25 in /Users/paima/anaconda3/lib/python3.11/site-packages (from seaborn) (2.0.3)\n",
      "Requirement already satisfied: matplotlib!=3.6.1,>=3.1 in /Users/paima/anaconda3/lib/python3.11/site-packages (from seaborn) (3.7.2)\n",
      "Requirement already satisfied: contourpy>=1.0.1 in /Users/paima/anaconda3/lib/python3.11/site-packages (from matplotlib!=3.6.1,>=3.1->seaborn) (1.0.5)\n",
      "Requirement already satisfied: cycler>=0.10 in /Users/paima/anaconda3/lib/python3.11/site-packages (from matplotlib!=3.6.1,>=3.1->seaborn) (0.11.0)\n",
      "Requirement already satisfied: fonttools>=4.22.0 in /Users/paima/anaconda3/lib/python3.11/site-packages (from matplotlib!=3.6.1,>=3.1->seaborn) (4.25.0)\n",
      "Requirement already satisfied: kiwisolver>=1.0.1 in /Users/paima/anaconda3/lib/python3.11/site-packages (from matplotlib!=3.6.1,>=3.1->seaborn) (1.4.4)\n",
      "Requirement already satisfied: packaging>=20.0 in /Users/paima/anaconda3/lib/python3.11/site-packages (from matplotlib!=3.6.1,>=3.1->seaborn) (23.1)\n",
      "Requirement already satisfied: pillow>=6.2.0 in /Users/paima/anaconda3/lib/python3.11/site-packages (from matplotlib!=3.6.1,>=3.1->seaborn) (9.4.0)\n",
      "Requirement already satisfied: pyparsing<3.1,>=2.3.1 in /Users/paima/anaconda3/lib/python3.11/site-packages (from matplotlib!=3.6.1,>=3.1->seaborn) (3.0.9)\n",
      "Requirement already satisfied: python-dateutil>=2.7 in /Users/paima/anaconda3/lib/python3.11/site-packages (from matplotlib!=3.6.1,>=3.1->seaborn) (2.8.2)\n",
      "Requirement already satisfied: pytz>=2020.1 in /Users/paima/anaconda3/lib/python3.11/site-packages (from pandas>=0.25->seaborn) (2023.3.post1)\n",
      "Requirement already satisfied: tzdata>=2022.1 in /Users/paima/anaconda3/lib/python3.11/site-packages (from pandas>=0.25->seaborn) (2023.3)\n",
      "Requirement already satisfied: six>=1.5 in /Users/paima/anaconda3/lib/python3.11/site-packages (from python-dateutil>=2.7->matplotlib!=3.6.1,>=3.1->seaborn) (1.16.0)\n",
      "Requirement already satisfied: plotly in /Users/paima/anaconda3/lib/python3.11/site-packages (5.9.0)\n",
      "Requirement already satisfied: tenacity>=6.2.0 in /Users/paima/anaconda3/lib/python3.11/site-packages (from plotly) (8.2.2)\n",
      "Requirement already satisfied: matplotlib in /Users/paima/anaconda3/lib/python3.11/site-packages (3.7.2)\n",
      "Requirement already satisfied: contourpy>=1.0.1 in /Users/paima/anaconda3/lib/python3.11/site-packages (from matplotlib) (1.0.5)\n",
      "Requirement already satisfied: cycler>=0.10 in /Users/paima/anaconda3/lib/python3.11/site-packages (from matplotlib) (0.11.0)\n",
      "Requirement already satisfied: fonttools>=4.22.0 in /Users/paima/anaconda3/lib/python3.11/site-packages (from matplotlib) (4.25.0)\n",
      "Requirement already satisfied: kiwisolver>=1.0.1 in /Users/paima/anaconda3/lib/python3.11/site-packages (from matplotlib) (1.4.4)\n",
      "Requirement already satisfied: numpy>=1.20 in /Users/paima/anaconda3/lib/python3.11/site-packages (from matplotlib) (1.24.3)\n",
      "Requirement already satisfied: packaging>=20.0 in /Users/paima/anaconda3/lib/python3.11/site-packages (from matplotlib) (23.1)\n",
      "Requirement already satisfied: pillow>=6.2.0 in /Users/paima/anaconda3/lib/python3.11/site-packages (from matplotlib) (9.4.0)\n",
      "Requirement already satisfied: pyparsing<3.1,>=2.3.1 in /Users/paima/anaconda3/lib/python3.11/site-packages (from matplotlib) (3.0.9)\n",
      "Requirement already satisfied: python-dateutil>=2.7 in /Users/paima/anaconda3/lib/python3.11/site-packages (from matplotlib) (2.8.2)\n",
      "Requirement already satisfied: six>=1.5 in /Users/paima/anaconda3/lib/python3.11/site-packages (from python-dateutil>=2.7->matplotlib) (1.16.0)\n"
     ]
    }
   ],
   "source": [
    "!pip3 install pandas\n",
    "!pip3 install duckdb\n",
    "!pip3 install seaborn\n",
    "!pip3 install plotly\n",
    "!pip3 install matplotlib"
   ]
  },
  {
   "cell_type": "code",
   "execution_count": 2,
   "metadata": {},
   "outputs": [],
   "source": [
    "import pandas as pd\n",
    "import duckdb as db \n",
    "import seaborn as sns\n",
    "import matplotlib.pyplot as plt "
   ]
  },
  {
   "cell_type": "code",
   "execution_count": 3,
   "metadata": {},
   "outputs": [
    {
     "data": {
      "text/html": [
       "<div>\n",
       "<style scoped>\n",
       "    .dataframe tbody tr th:only-of-type {\n",
       "        vertical-align: middle;\n",
       "    }\n",
       "\n",
       "    .dataframe tbody tr th {\n",
       "        vertical-align: top;\n",
       "    }\n",
       "\n",
       "    .dataframe thead th {\n",
       "        text-align: right;\n",
       "    }\n",
       "</style>\n",
       "<table border=\"1\" class=\"dataframe\">\n",
       "  <thead>\n",
       "    <tr style=\"text-align: right;\">\n",
       "      <th></th>\n",
       "      <th>Order_ID</th>\n",
       "      <th>Customer_ID</th>\n",
       "      <th>Product_ID</th>\n",
       "      <th>Product_Name</th>\n",
       "      <th>Category</th>\n",
       "      <th>Price</th>\n",
       "      <th>Quantity</th>\n",
       "      <th>Order_Date</th>\n",
       "      <th>Delivery_Date</th>\n",
       "      <th>Payment_Method</th>\n",
       "    </tr>\n",
       "  </thead>\n",
       "  <tbody>\n",
       "    <tr>\n",
       "      <th>0</th>\n",
       "      <td>48ca9641-6d4c-4f39-b2e9-bf2e64eb97d8</td>\n",
       "      <td>76c18b23-a7d5-4b66-adaa-7aa143af36be</td>\n",
       "      <td>e19cbae9-8203-46ab-a8c8-5933dd0078ba</td>\n",
       "      <td>in</td>\n",
       "      <td>recognize</td>\n",
       "      <td>164.29</td>\n",
       "      <td>6.0</td>\n",
       "      <td>2020-08-26</td>\n",
       "      <td>2020-08-26</td>\n",
       "      <td>Credit Card</td>\n",
       "    </tr>\n",
       "    <tr>\n",
       "      <th>1</th>\n",
       "      <td>5ece9c62-f8d7-40eb-9a02-4ea7de0f1c6a</td>\n",
       "      <td>180f5718-28ca-4a35-adea-b74b05da3b08</td>\n",
       "      <td>932a13e1-2c6f-4f64-b644-6e9ae6cef485</td>\n",
       "      <td>list</td>\n",
       "      <td>mission</td>\n",
       "      <td>614.45</td>\n",
       "      <td>9.0</td>\n",
       "      <td>NaN</td>\n",
       "      <td>NaN</td>\n",
       "      <td>PayPal</td>\n",
       "    </tr>\n",
       "    <tr>\n",
       "      <th>2</th>\n",
       "      <td>NaN</td>\n",
       "      <td>a48c729f-374a-4a46-ae22-65d691fdcca2</td>\n",
       "      <td>896de70f-ab14-4d12-a6e0-8c3cdddd8c74</td>\n",
       "      <td>society</td>\n",
       "      <td>NaN</td>\n",
       "      <td>377.48</td>\n",
       "      <td>1.0</td>\n",
       "      <td>2020-02-21</td>\n",
       "      <td>2020-02-24</td>\n",
       "      <td>Credit Card</td>\n",
       "    </tr>\n",
       "    <tr>\n",
       "      <th>3</th>\n",
       "      <td>NaN</td>\n",
       "      <td>6a8965d2-f002-49ab-bfa3-4412e029fb5e</td>\n",
       "      <td>19fa7a20-d5e4-410f-bd51-b31899fd200e</td>\n",
       "      <td>themselves</td>\n",
       "      <td>or</td>\n",
       "      <td>NaN</td>\n",
       "      <td>1.0</td>\n",
       "      <td>2022-04-09</td>\n",
       "      <td>2022-04-13</td>\n",
       "      <td>Cash</td>\n",
       "    </tr>\n",
       "    <tr>\n",
       "      <th>4</th>\n",
       "      <td>d7493946-0d19-4c0e-a037-a985061a6f4f</td>\n",
       "      <td>0e6831fc-a7a4-41b4-b861-41f747702832</td>\n",
       "      <td>4202bb8b-63c1-4b59-8228-96a1d6a6efe2</td>\n",
       "      <td>those</td>\n",
       "      <td>marriage</td>\n",
       "      <td>NaN</td>\n",
       "      <td>1.0</td>\n",
       "      <td>2021-02-12</td>\n",
       "      <td>2021-02-21</td>\n",
       "      <td>Cash</td>\n",
       "    </tr>\n",
       "  </tbody>\n",
       "</table>\n",
       "</div>"
      ],
      "text/plain": [
       "                               Order_ID                           Customer_ID  \\\n",
       "0  48ca9641-6d4c-4f39-b2e9-bf2e64eb97d8  76c18b23-a7d5-4b66-adaa-7aa143af36be   \n",
       "1  5ece9c62-f8d7-40eb-9a02-4ea7de0f1c6a  180f5718-28ca-4a35-adea-b74b05da3b08   \n",
       "2                                   NaN  a48c729f-374a-4a46-ae22-65d691fdcca2   \n",
       "3                                   NaN  6a8965d2-f002-49ab-bfa3-4412e029fb5e   \n",
       "4  d7493946-0d19-4c0e-a037-a985061a6f4f  0e6831fc-a7a4-41b4-b861-41f747702832   \n",
       "\n",
       "                             Product_ID Product_Name   Category   Price  \\\n",
       "0  e19cbae9-8203-46ab-a8c8-5933dd0078ba           in  recognize  164.29   \n",
       "1  932a13e1-2c6f-4f64-b644-6e9ae6cef485         list    mission  614.45   \n",
       "2  896de70f-ab14-4d12-a6e0-8c3cdddd8c74      society        NaN  377.48   \n",
       "3  19fa7a20-d5e4-410f-bd51-b31899fd200e   themselves         or     NaN   \n",
       "4  4202bb8b-63c1-4b59-8228-96a1d6a6efe2        those   marriage     NaN   \n",
       "\n",
       "   Quantity  Order_Date Delivery_Date Payment_Method  \n",
       "0       6.0  2020-08-26    2020-08-26    Credit Card  \n",
       "1       9.0         NaN           NaN         PayPal  \n",
       "2       1.0  2020-02-21    2020-02-24    Credit Card  \n",
       "3       1.0  2022-04-09    2022-04-13           Cash  \n",
       "4       1.0  2021-02-12    2021-02-21           Cash  "
      ]
     },
     "execution_count": 3,
     "metadata": {},
     "output_type": "execute_result"
    }
   ],
   "source": [
    "data = pd.read_csv(\"ecommerce_data.csv\")\n",
    "data.head()"
   ]
  },
  {
   "cell_type": "code",
   "execution_count": 4,
   "metadata": {},
   "outputs": [
    {
     "data": {
      "text/plain": [
       "Order_ID           93\n",
       "Customer_ID        78\n",
       "Product_ID         98\n",
       "Product_Name       97\n",
       "Category          105\n",
       "Price             116\n",
       "Quantity           91\n",
       "Order_Date         92\n",
       "Delivery_Date     193\n",
       "Payment_Method    105\n",
       "dtype: int64"
      ]
     },
     "execution_count": 4,
     "metadata": {},
     "output_type": "execute_result"
    }
   ],
   "source": [
    "data.isnull().sum()"
   ]
  },
  {
   "cell_type": "code",
   "execution_count": 5,
   "metadata": {},
   "outputs": [
    {
     "data": {
      "text/plain": [
       "Order_ID          0\n",
       "Customer_ID       0\n",
       "Product_ID        0\n",
       "Product_Name      0\n",
       "Category          0\n",
       "Price             0\n",
       "Quantity          0\n",
       "Order_Date        0\n",
       "Delivery_Date     0\n",
       "Payment_Method    0\n",
       "dtype: int64"
      ]
     },
     "execution_count": 5,
     "metadata": {},
     "output_type": "execute_result"
    }
   ],
   "source": [
    "data = data.dropna()\n",
    "data.isnull().sum()"
   ]
  },
  {
   "cell_type": "code",
   "execution_count": 6,
   "metadata": {},
   "outputs": [
    {
     "name": "stdout",
     "output_type": "stream",
     "text": [
      "<class 'pandas.core.frame.DataFrame'>\n",
      "Index: 369 entries, 0 to 999\n",
      "Data columns (total 10 columns):\n",
      " #   Column          Non-Null Count  Dtype  \n",
      "---  ------          --------------  -----  \n",
      " 0   Order_ID        369 non-null    object \n",
      " 1   Customer_ID     369 non-null    object \n",
      " 2   Product_ID      369 non-null    object \n",
      " 3   Product_Name    369 non-null    object \n",
      " 4   Category        369 non-null    object \n",
      " 5   Price           369 non-null    float64\n",
      " 6   Quantity        369 non-null    float64\n",
      " 7   Order_Date      369 non-null    object \n",
      " 8   Delivery_Date   369 non-null    object \n",
      " 9   Payment_Method  369 non-null    object \n",
      "dtypes: float64(2), object(8)\n",
      "memory usage: 31.7+ KB\n"
     ]
    }
   ],
   "source": [
    "data.info()"
   ]
  },
  {
   "cell_type": "code",
   "execution_count": 7,
   "metadata": {},
   "outputs": [
    {
     "data": {
      "text/html": [
       "<div>\n",
       "<style scoped>\n",
       "    .dataframe tbody tr th:only-of-type {\n",
       "        vertical-align: middle;\n",
       "    }\n",
       "\n",
       "    .dataframe tbody tr th {\n",
       "        vertical-align: top;\n",
       "    }\n",
       "\n",
       "    .dataframe thead th {\n",
       "        text-align: right;\n",
       "    }\n",
       "</style>\n",
       "<table border=\"1\" class=\"dataframe\">\n",
       "  <thead>\n",
       "    <tr style=\"text-align: right;\">\n",
       "      <th></th>\n",
       "      <th>Order_ID</th>\n",
       "      <th>Customer_ID</th>\n",
       "      <th>Product_ID</th>\n",
       "      <th>Product_Name</th>\n",
       "      <th>Category</th>\n",
       "      <th>Price</th>\n",
       "      <th>Quantity</th>\n",
       "      <th>Order_Date</th>\n",
       "      <th>Delivery_Date</th>\n",
       "      <th>Payment_Method</th>\n",
       "    </tr>\n",
       "  </thead>\n",
       "  <tbody>\n",
       "    <tr>\n",
       "      <th>0</th>\n",
       "      <td>48ca9641-6d4c-4f39-b2e9-bf2e64eb97d8</td>\n",
       "      <td>76c18b23-a7d5-4b66-adaa-7aa143af36be</td>\n",
       "      <td>e19cbae9-8203-46ab-a8c8-5933dd0078ba</td>\n",
       "      <td>in</td>\n",
       "      <td>recognize</td>\n",
       "      <td>164.29</td>\n",
       "      <td>6.0</td>\n",
       "      <td>2020-08-26</td>\n",
       "      <td>2020-08-26</td>\n",
       "      <td>Credit Card</td>\n",
       "    </tr>\n",
       "    <tr>\n",
       "      <th>8</th>\n",
       "      <td>26f29160-9f9a-4924-8d29-1a365e92c853</td>\n",
       "      <td>5a098d7e-d35a-4592-b4a9-881eb627b870</td>\n",
       "      <td>6a471783-05e4-4743-8cb7-c8ec7d514a9b</td>\n",
       "      <td>take</td>\n",
       "      <td>event</td>\n",
       "      <td>136.01</td>\n",
       "      <td>9.0</td>\n",
       "      <td>2022-02-21</td>\n",
       "      <td>2022-02-24</td>\n",
       "      <td>Cash</td>\n",
       "    </tr>\n",
       "    <tr>\n",
       "      <th>9</th>\n",
       "      <td>46dea4b6-3e1e-4f6a-a29a-1e88eaf4c762</td>\n",
       "      <td>d729fa92-0909-4b06-b125-bf4a9de378dd</td>\n",
       "      <td>c39ca2fb-9462-45f3-9fd7-f9f60818bbd0</td>\n",
       "      <td>while</td>\n",
       "      <td>build</td>\n",
       "      <td>962.10</td>\n",
       "      <td>7.0</td>\n",
       "      <td>2021-10-03</td>\n",
       "      <td>2021-10-05</td>\n",
       "      <td>Cash</td>\n",
       "    </tr>\n",
       "    <tr>\n",
       "      <th>10</th>\n",
       "      <td>a499504f-687a-4f88-aeda-bf3c401ca168</td>\n",
       "      <td>ac04d16c-dc58-4197-a45d-85b16be5dc46</td>\n",
       "      <td>d82c9e95-99fc-4520-b72b-a554da58889b</td>\n",
       "      <td>before</td>\n",
       "      <td>theory</td>\n",
       "      <td>547.22</td>\n",
       "      <td>9.0</td>\n",
       "      <td>2021-12-29</td>\n",
       "      <td>2022-01-06</td>\n",
       "      <td>Cash</td>\n",
       "    </tr>\n",
       "    <tr>\n",
       "      <th>16</th>\n",
       "      <td>89a6d123-a260-460e-a70a-852d9f306750</td>\n",
       "      <td>6ccc37b5-878d-429f-8104-f368a54908e8</td>\n",
       "      <td>a5db15f9-097a-4fb8-b7b9-c2fc08da3650</td>\n",
       "      <td>hair</td>\n",
       "      <td>yes</td>\n",
       "      <td>117.30</td>\n",
       "      <td>7.0</td>\n",
       "      <td>2021-04-11</td>\n",
       "      <td>2021-04-11</td>\n",
       "      <td>Credit Card</td>\n",
       "    </tr>\n",
       "  </tbody>\n",
       "</table>\n",
       "</div>"
      ],
      "text/plain": [
       "                                Order_ID  \\\n",
       "0   48ca9641-6d4c-4f39-b2e9-bf2e64eb97d8   \n",
       "8   26f29160-9f9a-4924-8d29-1a365e92c853   \n",
       "9   46dea4b6-3e1e-4f6a-a29a-1e88eaf4c762   \n",
       "10  a499504f-687a-4f88-aeda-bf3c401ca168   \n",
       "16  89a6d123-a260-460e-a70a-852d9f306750   \n",
       "\n",
       "                             Customer_ID  \\\n",
       "0   76c18b23-a7d5-4b66-adaa-7aa143af36be   \n",
       "8   5a098d7e-d35a-4592-b4a9-881eb627b870   \n",
       "9   d729fa92-0909-4b06-b125-bf4a9de378dd   \n",
       "10  ac04d16c-dc58-4197-a45d-85b16be5dc46   \n",
       "16  6ccc37b5-878d-429f-8104-f368a54908e8   \n",
       "\n",
       "                              Product_ID Product_Name   Category   Price  \\\n",
       "0   e19cbae9-8203-46ab-a8c8-5933dd0078ba           in  recognize  164.29   \n",
       "8   6a471783-05e4-4743-8cb7-c8ec7d514a9b         take      event  136.01   \n",
       "9   c39ca2fb-9462-45f3-9fd7-f9f60818bbd0        while      build  962.10   \n",
       "10  d82c9e95-99fc-4520-b72b-a554da58889b       before     theory  547.22   \n",
       "16  a5db15f9-097a-4fb8-b7b9-c2fc08da3650         hair        yes  117.30   \n",
       "\n",
       "    Quantity  Order_Date Delivery_Date Payment_Method  \n",
       "0        6.0  2020-08-26    2020-08-26    Credit Card  \n",
       "8        9.0  2022-02-21    2022-02-24           Cash  \n",
       "9        7.0  2021-10-03    2021-10-05           Cash  \n",
       "10       9.0  2021-12-29    2022-01-06           Cash  \n",
       "16       7.0  2021-04-11    2021-04-11    Credit Card  "
      ]
     },
     "execution_count": 7,
     "metadata": {},
     "output_type": "execute_result"
    }
   ],
   "source": [
    "data.head()"
   ]
  },
  {
   "cell_type": "markdown",
   "metadata": {},
   "source": [
    "Harga Rata-Rata Produk"
   ]
  },
  {
   "cell_type": "code",
   "execution_count": 8,
   "metadata": {},
   "outputs": [
    {
     "data": {
      "text/plain": [
       "196363.4"
      ]
     },
     "execution_count": 8,
     "metadata": {},
     "output_type": "execute_result"
    }
   ],
   "source": [
    "data['Price'].sum()"
   ]
  },
  {
   "cell_type": "code",
   "execution_count": 9,
   "metadata": {},
   "outputs": [
    {
     "data": {
      "text/plain": [
       "369"
      ]
     },
     "execution_count": 9,
     "metadata": {},
     "output_type": "execute_result"
    }
   ],
   "source": [
    "data[\"Price\"].count()"
   ]
  },
  {
   "cell_type": "code",
   "execution_count": 10,
   "metadata": {},
   "outputs": [
    {
     "data": {
      "text/plain": [
       "532.150135501355"
      ]
     },
     "execution_count": 10,
     "metadata": {},
     "output_type": "execute_result"
    }
   ],
   "source": [
    "rata_rata = data['Price'].sum() / data['Price'].count()\n",
    "rata_rata"
   ]
  },
  {
   "cell_type": "markdown",
   "metadata": {},
   "source": [
    "Produk Terjual dengan Jumlah Tertinggi"
   ]
  },
  {
   "cell_type": "code",
   "execution_count": 11,
   "metadata": {},
   "outputs": [],
   "source": [
    "jumlah_tertinggi = data.groupby('Product_Name')['Order_ID'].count()\n",
    "jumlah_tertinggi = jumlah_tertinggi.sort_values(ascending=False)"
   ]
  },
  {
   "cell_type": "code",
   "execution_count": 12,
   "metadata": {},
   "outputs": [
    {
     "data": {
      "text/plain": [
       "Product_Name\n",
       "hair          3\n",
       "tough         3\n",
       "situation     3\n",
       "answer        3\n",
       "long          3\n",
       "maybe         3\n",
       "push          3\n",
       "generation    3\n",
       "staff         2\n",
       "deep          2\n",
       "Name: Order_ID, dtype: int64"
      ]
     },
     "execution_count": 12,
     "metadata": {},
     "output_type": "execute_result"
    }
   ],
   "source": [
    "jumlah_tertinggi.head(10)"
   ]
  },
  {
   "cell_type": "markdown",
   "metadata": {},
   "source": [
    "Tren Penjualan dari Bulan ke Bulan"
   ]
  },
  {
   "cell_type": "code",
   "execution_count": 13,
   "metadata": {},
   "outputs": [],
   "source": [
    "import dateutil\n",
    "import datetime\n",
    "def parse_date(column_value:str) -> datetime.datetime:\n",
    "    return dateutil.parser.parse(column_value)\n",
    "data['Order_Date'] = data['Order_Date'].apply(parse_date)"
   ]
  },
  {
   "cell_type": "code",
   "execution_count": 39,
   "metadata": {},
   "outputs": [],
   "source": [
    "data['Month'] = data['Order_Date'].dt.month_name()"
   ]
  },
  {
   "cell_type": "code",
   "execution_count": 60,
   "metadata": {},
   "outputs": [
    {
     "data": {
      "text/plain": [
       "Month\n",
       "January      41\n",
       "February     30\n",
       "March        31\n",
       "April        30\n",
       "May          27\n",
       "June         34\n",
       "July         31\n",
       "August       31\n",
       "September    23\n",
       "October      31\n",
       "November     34\n",
       "December     26\n",
       "Name: Order_ID, dtype: int64"
      ]
     },
     "execution_count": 60,
     "metadata": {},
     "output_type": "execute_result"
    }
   ],
   "source": [
    "sales_perbulan = data.groupby('Month')['Order_ID'].count()\n",
    "urutan_bulan = ['January', 'February', 'March', 'April', 'May', 'June', 'July', 'August', 'September', 'October', 'November', 'December']\n",
    "sales_perbulan = sales_perbulan.reindex(urutan_bulan)\n",
    "sales_perbulan"
   ]
  },
  {
   "cell_type": "code",
   "execution_count": 47,
   "metadata": {},
   "outputs": [
    {
     "data": {
      "text/plain": [
       "<Axes: xlabel='Month'>"
      ]
     },
     "execution_count": 47,
     "metadata": {},
     "output_type": "execute_result"
    },
    {
     "data": {
      "image/png": "[encoded data removed]",
      "text/plain": [
       "<Figure size 1200x600 with 1 Axes>"
      ]
     },
     "metadata": {},
     "output_type": "display_data"
    }
   ],
   "source": [
    "plt.figure(figsize=(12,6))\n",
    "sns.lineplot(x=sales_perbulan.index, y=sales_perbulan.values)"
   ]
  },
  {
   "cell_type": "markdown",
   "metadata": {},
   "source": [
    "Penjualan berdasarkan hari"
   ]
  },
  {
   "cell_type": "code",
   "execution_count": 48,
   "metadata": {},
   "outputs": [
    {
     "data": {
      "text/plain": [
       "0      Wednesday\n",
       "8         Monday\n",
       "9         Sunday\n",
       "10     Wednesday\n",
       "16        Sunday\n",
       "         ...    \n",
       "986    Wednesday\n",
       "988       Friday\n",
       "992       Friday\n",
       "997       Sunday\n",
       "999    Wednesday\n",
       "Name: Day, Length: 369, dtype: object"
      ]
     },
     "execution_count": 48,
     "metadata": {},
     "output_type": "execute_result"
    }
   ],
   "source": [
    "data['Day'] = data['Order_Date'].dt.day_name()\n",
    "data['Day']"
   ]
  },
  {
   "cell_type": "code",
   "execution_count": 61,
   "metadata": {},
   "outputs": [
    {
     "data": {
      "text/plain": [
       "Day\n",
       "Sunday       57\n",
       "Monday       55\n",
       "Tuesday      48\n",
       "Wednesday    53\n",
       "Thursday     57\n",
       "Saturday     40\n",
       "Name: Order_ID, dtype: int64"
      ]
     },
     "execution_count": 61,
     "metadata": {},
     "output_type": "execute_result"
    }
   ],
   "source": [
    "hari_tertentu = data.groupby('Day')['Order_ID'].count()\n",
    "nama_hari = ['Sunday', 'Monday', 'Tuesday', 'Wednesday', 'Thursday','Saturday']\n",
    "hari_tertentu = hari_tertentu.reindex(nama_hari)\n",
    "hari_tertentu"
   ]
  },
  {
   "cell_type": "code",
   "execution_count": 65,
   "metadata": {},
   "outputs": [
    {
     "data": {
      "text/plain": [
       "<Axes: xlabel='Day'>"
      ]
     },
     "execution_count": 65,
     "metadata": {},
     "output_type": "execute_result"
    },
    {
     "data": {
      "image/png": "[encoded data removed]",
      "text/plain": [
       "<Figure size 1200x600 with 1 Axes>"
      ]
     },
     "metadata": {},
     "output_type": "display_data"
    }
   ],
   "source": [
    "plt.figure(figsize=(12,6))\n",
    "sns.lineplot(x = hari_tertentu.index, y = hari_tertentu.values)"
   ]
  },
  {
   "cell_type": "markdown",
   "metadata": {},
   "source": [
    "Distribusi Pembelian Per Pelanggan"
   ]
  },
  {
   "cell_type": "code",
   "execution_count": 16,
   "metadata": {},
   "outputs": [
    {
     "data": {
      "text/plain": [
       "Customer_ID\n",
       "003e524c-1457-44d2-9b21-6efc1e649793    1\n",
       "005f978f-4f73-43eb-a8c5-0bff2cce93b9    1\n",
       "01c5507b-0c18-4c9d-8506-a6a735a2cf56    1\n",
       "01d43552-50ca-4f6e-88d9-8916636bb747    1\n",
       "0452d744-d3a1-41e1-a084-99807df7c32d    1\n",
       "                                       ..\n",
       "fa6e408c-5e1b-4480-80b2-7bf8da3102b2    1\n",
       "fc668293-edfd-4f1a-a20e-bcad9fad49cb    1\n",
       "fd457185-f6d2-4985-b0a9-a76d245ae186    1\n",
       "fd540cbe-ac74-461d-abe3-7fc5ae3679d7    1\n",
       "fed0dd7e-abfe-402e-8065-e36b30311084    1\n",
       "Name: Order_ID, Length: 369, dtype: int64"
      ]
     },
     "execution_count": 16,
     "metadata": {},
     "output_type": "execute_result"
    }
   ],
   "source": [
    "pembelian_per_pelanggan = data.groupby(['Customer_ID'])['Order_ID'].count()\n",
    "pembelian_per_pelanggan"
   ]
  },
  {
   "cell_type": "markdown",
   "metadata": {},
   "source": [
    "Pembelian Lebih dari Sekali"
   ]
  },
  {
   "cell_type": "code",
   "execution_count": 17,
   "metadata": {},
   "outputs": [
    {
     "data": {
      "text/html": [
       "<div>\n",
       "<style scoped>\n",
       "    .dataframe tbody tr th:only-of-type {\n",
       "        vertical-align: middle;\n",
       "    }\n",
       "\n",
       "    .dataframe tbody tr th {\n",
       "        vertical-align: top;\n",
       "    }\n",
       "\n",
       "    .dataframe thead th {\n",
       "        text-align: right;\n",
       "    }\n",
       "</style>\n",
       "<table border=\"1\" class=\"dataframe\">\n",
       "  <thead>\n",
       "    <tr style=\"text-align: right;\">\n",
       "      <th></th>\n",
       "      <th>Customer_ID</th>\n",
       "      <th>Order_ID</th>\n",
       "    </tr>\n",
       "  </thead>\n",
       "  <tbody>\n",
       "    <tr>\n",
       "      <th>0</th>\n",
       "      <td>003e524c-1457-44d2-9b21-6efc1e649793</td>\n",
       "      <td>1</td>\n",
       "    </tr>\n",
       "    <tr>\n",
       "      <th>1</th>\n",
       "      <td>005f978f-4f73-43eb-a8c5-0bff2cce93b9</td>\n",
       "      <td>1</td>\n",
       "    </tr>\n",
       "    <tr>\n",
       "      <th>2</th>\n",
       "      <td>01c5507b-0c18-4c9d-8506-a6a735a2cf56</td>\n",
       "      <td>1</td>\n",
       "    </tr>\n",
       "    <tr>\n",
       "      <th>3</th>\n",
       "      <td>01d43552-50ca-4f6e-88d9-8916636bb747</td>\n",
       "      <td>1</td>\n",
       "    </tr>\n",
       "    <tr>\n",
       "      <th>4</th>\n",
       "      <td>0452d744-d3a1-41e1-a084-99807df7c32d</td>\n",
       "      <td>1</td>\n",
       "    </tr>\n",
       "    <tr>\n",
       "      <th>...</th>\n",
       "      <td>...</td>\n",
       "      <td>...</td>\n",
       "    </tr>\n",
       "    <tr>\n",
       "      <th>364</th>\n",
       "      <td>fa6e408c-5e1b-4480-80b2-7bf8da3102b2</td>\n",
       "      <td>1</td>\n",
       "    </tr>\n",
       "    <tr>\n",
       "      <th>365</th>\n",
       "      <td>fc668293-edfd-4f1a-a20e-bcad9fad49cb</td>\n",
       "      <td>1</td>\n",
       "    </tr>\n",
       "    <tr>\n",
       "      <th>366</th>\n",
       "      <td>fd457185-f6d2-4985-b0a9-a76d245ae186</td>\n",
       "      <td>1</td>\n",
       "    </tr>\n",
       "    <tr>\n",
       "      <th>367</th>\n",
       "      <td>fd540cbe-ac74-461d-abe3-7fc5ae3679d7</td>\n",
       "      <td>1</td>\n",
       "    </tr>\n",
       "    <tr>\n",
       "      <th>368</th>\n",
       "      <td>fed0dd7e-abfe-402e-8065-e36b30311084</td>\n",
       "      <td>1</td>\n",
       "    </tr>\n",
       "  </tbody>\n",
       "</table>\n",
       "<p>369 rows × 2 columns</p>\n",
       "</div>"
      ],
      "text/plain": [
       "                              Customer_ID  Order_ID\n",
       "0    003e524c-1457-44d2-9b21-6efc1e649793         1\n",
       "1    005f978f-4f73-43eb-a8c5-0bff2cce93b9         1\n",
       "2    01c5507b-0c18-4c9d-8506-a6a735a2cf56         1\n",
       "3    01d43552-50ca-4f6e-88d9-8916636bb747         1\n",
       "4    0452d744-d3a1-41e1-a084-99807df7c32d         1\n",
       "..                                    ...       ...\n",
       "364  fa6e408c-5e1b-4480-80b2-7bf8da3102b2         1\n",
       "365  fc668293-edfd-4f1a-a20e-bcad9fad49cb         1\n",
       "366  fd457185-f6d2-4985-b0a9-a76d245ae186         1\n",
       "367  fd540cbe-ac74-461d-abe3-7fc5ae3679d7         1\n",
       "368  fed0dd7e-abfe-402e-8065-e36b30311084         1\n",
       "\n",
       "[369 rows x 2 columns]"
      ]
     },
     "execution_count": 17,
     "metadata": {},
     "output_type": "execute_result"
    }
   ],
   "source": [
    "new_df = pembelian_per_pelanggan.reset_index()\n",
    "new_df"
   ]
  },
  {
   "cell_type": "code",
   "execution_count": 18,
   "metadata": {},
   "outputs": [
    {
     "data": {
      "text/html": [
       "<div>\n",
       "<style scoped>\n",
       "    .dataframe tbody tr th:only-of-type {\n",
       "        vertical-align: middle;\n",
       "    }\n",
       "\n",
       "    .dataframe tbody tr th {\n",
       "        vertical-align: top;\n",
       "    }\n",
       "\n",
       "    .dataframe thead th {\n",
       "        text-align: right;\n",
       "    }\n",
       "</style>\n",
       "<table border=\"1\" class=\"dataframe\">\n",
       "  <thead>\n",
       "    <tr style=\"text-align: right;\">\n",
       "      <th></th>\n",
       "      <th>Customer_ID</th>\n",
       "      <th>Order_ID</th>\n",
       "    </tr>\n",
       "  </thead>\n",
       "  <tbody>\n",
       "  </tbody>\n",
       "</table>\n",
       "</div>"
      ],
      "text/plain": [
       "Empty DataFrame\n",
       "Columns: [Customer_ID, Order_ID]\n",
       "Index: []"
      ]
     },
     "execution_count": 18,
     "metadata": {},
     "output_type": "execute_result"
    }
   ],
   "source": [
    "lebih_dari_sekali = db.query(\"SELECT * FROM new_df WHERE Order_ID > 1\")\n",
    "lebih_dari_sekali.df()"
   ]
  },
  {
   "cell_type": "markdown",
   "metadata": {},
   "source": [
    "Metode Pembayaran Paling Sering Digunakan"
   ]
  },
  {
   "cell_type": "code",
   "execution_count": 19,
   "metadata": {},
   "outputs": [
    {
     "data": {
      "text/plain": [
       "Payment_Method\n",
       "Cash           121\n",
       "Credit Card    131\n",
       "PayPal         117\n",
       "Name: Order_ID, dtype: int64"
      ]
     },
     "execution_count": 19,
     "metadata": {},
     "output_type": "execute_result"
    }
   ],
   "source": [
    "metode_pembayaran = data.groupby('Payment_Method')['Order_ID'].count()\n",
    "metode_pembayaran"
   ]
  },
  {
   "cell_type": "code",
   "execution_count": 20,
   "metadata": {},
   "outputs": [
    {
     "data": {
      "text/html": [
       "<div>\n",
       "<style scoped>\n",
       "    .dataframe tbody tr th:only-of-type {\n",
       "        vertical-align: middle;\n",
       "    }\n",
       "\n",
       "    .dataframe tbody tr th {\n",
       "        vertical-align: top;\n",
       "    }\n",
       "\n",
       "    .dataframe thead th {\n",
       "        text-align: right;\n",
       "    }\n",
       "</style>\n",
       "<table border=\"1\" class=\"dataframe\">\n",
       "  <thead>\n",
       "    <tr style=\"text-align: right;\">\n",
       "      <th></th>\n",
       "      <th>Payment_Method</th>\n",
       "      <th>Order_ID</th>\n",
       "    </tr>\n",
       "  </thead>\n",
       "  <tbody>\n",
       "    <tr>\n",
       "      <th>0</th>\n",
       "      <td>Cash</td>\n",
       "      <td>121</td>\n",
       "    </tr>\n",
       "    <tr>\n",
       "      <th>1</th>\n",
       "      <td>Credit Card</td>\n",
       "      <td>131</td>\n",
       "    </tr>\n",
       "    <tr>\n",
       "      <th>2</th>\n",
       "      <td>PayPal</td>\n",
       "      <td>117</td>\n",
       "    </tr>\n",
       "  </tbody>\n",
       "</table>\n",
       "</div>"
      ],
      "text/plain": [
       "  Payment_Method  Order_ID\n",
       "0           Cash       121\n",
       "1    Credit Card       131\n",
       "2         PayPal       117"
      ]
     },
     "execution_count": 20,
     "metadata": {},
     "output_type": "execute_result"
    }
   ],
   "source": [
    "new_df = metode_pembayaran.reset_index()\n",
    "new_df"
   ]
  },
  {
   "cell_type": "markdown",
   "metadata": {},
   "source": [
    "Korelasi Metode Pembayaran dan Total Belanja"
   ]
  },
  {
   "cell_type": "code",
   "execution_count": 21,
   "metadata": {},
   "outputs": [
    {
     "data": {
      "text/plain": [
       "<BarContainer object of 3 artists>"
      ]
     },
     "execution_count": 21,
     "metadata": {},
     "output_type": "execute_result"
    },
    {
     "data": {
      "image/png": "[encoded data removed]",
      "text/plain": [
       "<Figure size 640x480 with 1 Axes>"
      ]
     },
     "metadata": {},
     "output_type": "display_data"
    }
   ],
   "source": [
    "plt.bar(x= new_df['Payment_Method'], height=new_df['Order_ID'])"
   ]
  },
  {
   "cell_type": "markdown",
   "metadata": {},
   "source": [
    "Persentase Keterlambatan"
   ]
  },
  {
   "cell_type": "code",
   "execution_count": 22,
   "metadata": {},
   "outputs": [
    {
     "data": {
      "text/plain": [
       "0     2020-08-26\n",
       "8     2022-02-24\n",
       "9     2021-10-05\n",
       "10    2022-01-06\n",
       "16    2021-04-11\n",
       "         ...    \n",
       "986   2020-11-08\n",
       "988   2020-05-24\n",
       "992   2022-06-26\n",
       "997   2021-03-08\n",
       "999   2020-04-17\n",
       "Name: Delivery_Date, Length: 369, dtype: datetime64[ns]"
      ]
     },
     "execution_count": 22,
     "metadata": {},
     "output_type": "execute_result"
    }
   ],
   "source": [
    "data['Delivery_Date'] = data['Delivery_Date'].apply(parse_date)\n",
    "data['Delivery_Date']"
   ]
  },
  {
   "cell_type": "code",
   "execution_count": 23,
   "metadata": {},
   "outputs": [
    {
     "data": {
      "text/html": [
       "<div>\n",
       "<style scoped>\n",
       "    .dataframe tbody tr th:only-of-type {\n",
       "        vertical-align: middle;\n",
       "    }\n",
       "\n",
       "    .dataframe tbody tr th {\n",
       "        vertical-align: top;\n",
       "    }\n",
       "\n",
       "    .dataframe thead th {\n",
       "        text-align: right;\n",
       "    }\n",
       "</style>\n",
       "<table border=\"1\" class=\"dataframe\">\n",
       "  <thead>\n",
       "    <tr style=\"text-align: right;\">\n",
       "      <th></th>\n",
       "      <th>Delivery_Date</th>\n",
       "      <th>Order_Date</th>\n",
       "      <th>Category</th>\n",
       "    </tr>\n",
       "  </thead>\n",
       "  <tbody>\n",
       "    <tr>\n",
       "      <th>0</th>\n",
       "      <td>2020-08-26</td>\n",
       "      <td>2020-08-26</td>\n",
       "      <td>recognize</td>\n",
       "    </tr>\n",
       "    <tr>\n",
       "      <th>8</th>\n",
       "      <td>2022-02-24</td>\n",
       "      <td>2022-02-21</td>\n",
       "      <td>event</td>\n",
       "    </tr>\n",
       "    <tr>\n",
       "      <th>9</th>\n",
       "      <td>2021-10-05</td>\n",
       "      <td>2021-10-03</td>\n",
       "      <td>build</td>\n",
       "    </tr>\n",
       "    <tr>\n",
       "      <th>10</th>\n",
       "      <td>2022-01-06</td>\n",
       "      <td>2021-12-29</td>\n",
       "      <td>theory</td>\n",
       "    </tr>\n",
       "    <tr>\n",
       "      <th>16</th>\n",
       "      <td>2021-04-11</td>\n",
       "      <td>2021-04-11</td>\n",
       "      <td>yes</td>\n",
       "    </tr>\n",
       "    <tr>\n",
       "      <th>...</th>\n",
       "      <td>...</td>\n",
       "      <td>...</td>\n",
       "      <td>...</td>\n",
       "    </tr>\n",
       "    <tr>\n",
       "      <th>986</th>\n",
       "      <td>2020-11-08</td>\n",
       "      <td>2020-11-04</td>\n",
       "      <td>responsibility</td>\n",
       "    </tr>\n",
       "    <tr>\n",
       "      <th>988</th>\n",
       "      <td>2020-05-24</td>\n",
       "      <td>2020-05-22</td>\n",
       "      <td>room</td>\n",
       "    </tr>\n",
       "    <tr>\n",
       "      <th>992</th>\n",
       "      <td>2022-06-26</td>\n",
       "      <td>2022-06-17</td>\n",
       "      <td>news</td>\n",
       "    </tr>\n",
       "    <tr>\n",
       "      <th>997</th>\n",
       "      <td>2021-03-08</td>\n",
       "      <td>2021-03-07</td>\n",
       "      <td>bill</td>\n",
       "    </tr>\n",
       "    <tr>\n",
       "      <th>999</th>\n",
       "      <td>2020-04-17</td>\n",
       "      <td>2020-04-08</td>\n",
       "      <td>protect</td>\n",
       "    </tr>\n",
       "  </tbody>\n",
       "</table>\n",
       "<p>369 rows × 3 columns</p>\n",
       "</div>"
      ],
      "text/plain": [
       "    Delivery_Date Order_Date        Category\n",
       "0      2020-08-26 2020-08-26       recognize\n",
       "8      2022-02-24 2022-02-21           event\n",
       "9      2021-10-05 2021-10-03           build\n",
       "10     2022-01-06 2021-12-29          theory\n",
       "16     2021-04-11 2021-04-11             yes\n",
       "..            ...        ...             ...\n",
       "986    2020-11-08 2020-11-04  responsibility\n",
       "988    2020-05-24 2020-05-22            room\n",
       "992    2022-06-26 2022-06-17            news\n",
       "997    2021-03-08 2021-03-07            bill\n",
       "999    2020-04-17 2020-04-08         protect\n",
       "\n",
       "[369 rows x 3 columns]"
      ]
     },
     "execution_count": 23,
     "metadata": {},
     "output_type": "execute_result"
    }
   ],
   "source": [
    "new_df = data[['Delivery_Date', 'Order_Date', 'Category']]\n",
    "new_df"
   ]
  },
  {
   "cell_type": "code",
   "execution_count": 24,
   "metadata": {},
   "outputs": [
    {
     "name": "stderr",
     "output_type": "stream",
     "text": [
      "/var/folders/16/3klh70sn4rd_4qw1rx6f2yhw0000gn/T/ipykernel_4967/1612787783.py:3: SettingWithCopyWarning: \n",
      "A value is trying to be set on a copy of a slice from a DataFrame.\n",
      "Try using .loc[row_indexer,col_indexer] = value instead\n",
      "\n",
      "See the caveats in the documentation: https://pandas.pydata.org/pandas-docs/stable/user_guide/indexing.html#returning-a-view-versus-a-copy\n",
      "  new_df.at[row, 'Status'] = 'Tepat Waktu'\n"
     ]
    },
    {
     "data": {
      "text/plain": [
       "0      Tepat Waktu\n",
       "8        Terlambat\n",
       "9        Terlambat\n",
       "10       Terlambat\n",
       "16     Tepat Waktu\n",
       "          ...     \n",
       "986      Terlambat\n",
       "988      Terlambat\n",
       "992      Terlambat\n",
       "997      Terlambat\n",
       "999      Terlambat\n",
       "Name: Status, Length: 369, dtype: object"
      ]
     },
     "execution_count": 24,
     "metadata": {},
     "output_type": "execute_result"
    }
   ],
   "source": [
    "for row,column in new_df.iterrows():\n",
    "    if column['Delivery_Date'] == column['Order_Date']:\n",
    "        new_df.at[row, 'Status'] = 'Tepat Waktu'\n",
    "    else:\n",
    "        new_df.at[row, 'Status'] = 'Terlambat'\n",
    "\n",
    "new_df['Status']\n"
   ]
  },
  {
   "cell_type": "code",
   "execution_count": 25,
   "metadata": {},
   "outputs": [
    {
     "data": {
      "text/plain": [
       "Status\n",
       "Tepat Waktu     29\n",
       "Terlambat      340\n",
       "Name: Status, dtype: int64"
      ]
     },
     "execution_count": 25,
     "metadata": {},
     "output_type": "execute_result"
    }
   ],
   "source": [
    "persentase = new_df.groupby('Status')['Status'].count()\n",
    "persentase"
   ]
  },
  {
   "cell_type": "code",
   "execution_count": 26,
   "metadata": {},
   "outputs": [
    {
     "data": {
      "text/plain": [
       "<matplotlib.legend.Legend at 0x28a470490>"
      ]
     },
     "execution_count": 26,
     "metadata": {},
     "output_type": "execute_result"
    },
    {
     "data": {
      "image/png": "[encoded data removed]",
      "text/plain": [
       "<Figure size 640x480 with 1 Axes>"
      ]
     },
     "metadata": {},
     "output_type": "display_data"
    }
   ],
   "source": [
    "plt.pie(persentase, autopct='%1.1f%%')\n",
    "plt.legend(persentase.index)"
   ]
  },
  {
   "cell_type": "markdown",
   "metadata": {},
   "source": [
    "Pola Keterlambatan Berdasarkan Kategori Produk"
   ]
  },
  {
   "cell_type": "code",
   "execution_count": 27,
   "metadata": {},
   "outputs": [
    {
     "data": {
      "text/html": [
       "<div>\n",
       "<style scoped>\n",
       "    .dataframe tbody tr th:only-of-type {\n",
       "        vertical-align: middle;\n",
       "    }\n",
       "\n",
       "    .dataframe tbody tr th {\n",
       "        vertical-align: top;\n",
       "    }\n",
       "\n",
       "    .dataframe thead th {\n",
       "        text-align: right;\n",
       "    }\n",
       "</style>\n",
       "<table border=\"1\" class=\"dataframe\">\n",
       "  <thead>\n",
       "    <tr style=\"text-align: right;\">\n",
       "      <th></th>\n",
       "      <th>Delivery_Date</th>\n",
       "      <th>Order_Date</th>\n",
       "      <th>Category</th>\n",
       "      <th>Status</th>\n",
       "    </tr>\n",
       "  </thead>\n",
       "  <tbody>\n",
       "    <tr>\n",
       "      <th>0</th>\n",
       "      <td>2022-02-24</td>\n",
       "      <td>2022-02-21</td>\n",
       "      <td>event</td>\n",
       "      <td>Terlambat</td>\n",
       "    </tr>\n",
       "    <tr>\n",
       "      <th>1</th>\n",
       "      <td>2021-10-05</td>\n",
       "      <td>2021-10-03</td>\n",
       "      <td>build</td>\n",
       "      <td>Terlambat</td>\n",
       "    </tr>\n",
       "    <tr>\n",
       "      <th>2</th>\n",
       "      <td>2022-01-06</td>\n",
       "      <td>2021-12-29</td>\n",
       "      <td>theory</td>\n",
       "      <td>Terlambat</td>\n",
       "    </tr>\n",
       "    <tr>\n",
       "      <th>3</th>\n",
       "      <td>2022-12-23</td>\n",
       "      <td>2022-12-15</td>\n",
       "      <td>forward</td>\n",
       "      <td>Terlambat</td>\n",
       "    </tr>\n",
       "    <tr>\n",
       "      <th>4</th>\n",
       "      <td>2020-08-29</td>\n",
       "      <td>2020-08-20</td>\n",
       "      <td>spend</td>\n",
       "      <td>Terlambat</td>\n",
       "    </tr>\n",
       "    <tr>\n",
       "      <th>...</th>\n",
       "      <td>...</td>\n",
       "      <td>...</td>\n",
       "      <td>...</td>\n",
       "      <td>...</td>\n",
       "    </tr>\n",
       "    <tr>\n",
       "      <th>335</th>\n",
       "      <td>2020-11-08</td>\n",
       "      <td>2020-11-04</td>\n",
       "      <td>responsibility</td>\n",
       "      <td>Terlambat</td>\n",
       "    </tr>\n",
       "    <tr>\n",
       "      <th>336</th>\n",
       "      <td>2020-05-24</td>\n",
       "      <td>2020-05-22</td>\n",
       "      <td>room</td>\n",
       "      <td>Terlambat</td>\n",
       "    </tr>\n",
       "    <tr>\n",
       "      <th>337</th>\n",
       "      <td>2022-06-26</td>\n",
       "      <td>2022-06-17</td>\n",
       "      <td>news</td>\n",
       "      <td>Terlambat</td>\n",
       "    </tr>\n",
       "    <tr>\n",
       "      <th>338</th>\n",
       "      <td>2021-03-08</td>\n",
       "      <td>2021-03-07</td>\n",
       "      <td>bill</td>\n",
       "      <td>Terlambat</td>\n",
       "    </tr>\n",
       "    <tr>\n",
       "      <th>339</th>\n",
       "      <td>2020-04-17</td>\n",
       "      <td>2020-04-08</td>\n",
       "      <td>protect</td>\n",
       "      <td>Terlambat</td>\n",
       "    </tr>\n",
       "  </tbody>\n",
       "</table>\n",
       "<p>340 rows × 4 columns</p>\n",
       "</div>"
      ],
      "text/plain": [
       "    Delivery_Date Order_Date        Category     Status\n",
       "0      2022-02-24 2022-02-21           event  Terlambat\n",
       "1      2021-10-05 2021-10-03           build  Terlambat\n",
       "2      2022-01-06 2021-12-29          theory  Terlambat\n",
       "3      2022-12-23 2022-12-15         forward  Terlambat\n",
       "4      2020-08-29 2020-08-20           spend  Terlambat\n",
       "..            ...        ...             ...        ...\n",
       "335    2020-11-08 2020-11-04  responsibility  Terlambat\n",
       "336    2020-05-24 2020-05-22            room  Terlambat\n",
       "337    2022-06-26 2022-06-17            news  Terlambat\n",
       "338    2021-03-08 2021-03-07            bill  Terlambat\n",
       "339    2020-04-17 2020-04-08         protect  Terlambat\n",
       "\n",
       "[340 rows x 4 columns]"
      ]
     },
     "execution_count": 27,
     "metadata": {},
     "output_type": "execute_result"
    }
   ],
   "source": [
    "terlambat = db.query(\"SELECT * FROM new_df WHERE Status = 'Terlambat'\").df()\n",
    "terlambat"
   ]
  },
  {
   "cell_type": "code",
   "execution_count": 28,
   "metadata": {},
   "outputs": [
    {
     "data": {
      "text/plain": [
       "Category\n",
       "TV         1\n",
       "across     1\n",
       "act        1\n",
       "address    2\n",
       "admit      1\n",
       "          ..\n",
       "woman      1\n",
       "year       1\n",
       "yes        2\n",
       "yet        2\n",
       "you        2\n",
       "Name: Status, Length: 281, dtype: int64"
      ]
     },
     "execution_count": 28,
     "metadata": {},
     "output_type": "execute_result"
    }
   ],
   "source": [
    "category_terlambat = terlambat.groupby('Category')['Status'].count()\n",
    "category_terlambat"
   ]
  }
 ],
 "metadata": {
  "kernelspec": {
   "display_name": "base",
   "language": "python",
   "name": "python3"
  },
  "language_info": {
   "codemirror_mode": {
    "name": "ipython",
    "version": 3
   },
   "file_extension": ".py",
   "mimetype": "text/x-python",
   "name": "python",
   "nbconvert_exporter": "python",
   "pygments_lexer": "ipython3",
   "version": "3.11.5"
  },
  "orig_nbformat": 4
 },
 "nbformat": 4,
 "nbformat_minor": 2
}
